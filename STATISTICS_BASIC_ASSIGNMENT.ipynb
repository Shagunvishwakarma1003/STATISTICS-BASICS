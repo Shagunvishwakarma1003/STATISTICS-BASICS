{
  "nbformat": 4,
  "nbformat_minor": 0,
  "metadata": {
    "colab": {
      "provenance": []
    },
    "kernelspec": {
      "name": "python3",
      "display_name": "Python 3"
    },
    "language_info": {
      "name": "python"
    }
  },
  "cells": [
    {
      "cell_type": "markdown",
      "source": [
        "# **Statistics Basics| Assignment**"
      ],
      "metadata": {
        "id": "hHLpqVgGGtBA"
      }
    },
    {
      "cell_type": "markdown",
      "source": [
        "**Question 1: What is the difference between descriptive statistics and inferential statistics? Explain with examples.**\n",
        "\n",
        "  **--> ANSWER**\n",
        "  **1. Descriptive Statistics**\n",
        "\n",
        "  * Definition: Summarizes and organizes collected data so we can understand it easily.\n",
        "  * Purpose: To describe what the data shows.\n",
        "  * Tools: Mean, Median, Mode, Standard Deviation, Graphs, Charts, Tables\n",
        "  \n",
        "   Example:-  Marks of 50 students in a class:\n",
        "   * Average marks = 68\n",
        "   * Highest marks = 95\n",
        "   * Lowest marks = 32\n",
        "   * Standard deviation = 10\n",
        "\n",
        "   --> Here, we only describe the collected data, no prediction about a larger population.\n",
        "\n",
        "   **2. Inferential Statistics**\n",
        "\n",
        "   * Definition: Makes predictions or conclusions about a population based on a\n",
        "   sample.\n",
        "   * Purpose: To generalize findings beyond the data we have.\n",
        "   * Tools: Hypothesis testing, Confidence intervals, Regression, Correlation.\n",
        "   \n",
        "   Example:- You survey 100 voters in a city of 10,000:\n",
        "   * 60% of sample prefer Party A → You estimate that roughly 60% of the entire city supports Party A.\n",
        "\n",
        "  --> Here, we infer population trends from a sample."
      ],
      "metadata": {
        "id": "0xQo2qwOHdTX"
      }
    },
    {
      "cell_type": "markdown",
      "source": [
        "**Question 2: What is sampling in statistics? Explain the differences between random and stratified sampling.**\n",
        "\n",
        "  **-->** **ANSWER**\n",
        "\n",
        "  **Sampling** :-  Selecting a small group (sample) from a large population to study and make conclusions.\n",
        "  * Why? Studying the whole population is time-consuming, costly, or impossible.\n",
        "\n",
        "  EXAMPLE:\n",
        "  \n",
        "  A school has 2000 students. Instead of checking the marks of all students, you randomly select 200 students and study their performance.\n",
        "\n",
        "  **1. Random Sampling**\n",
        "  * Every individual in the population has an equal chance of being selected.\n",
        "  * Simple and unbiased method.\n",
        "\n",
        "  Example:\n",
        "  \n",
        "  Pick 200 students randomly from 2000 students’ roll numbers.\n",
        "\n",
        "  **2. Stratified Sampling**\n",
        "  * Population is divided into groups/strata (like gender, class, age).\n",
        "  * A proportional sample is selected from each group to ensure representation.\n",
        "\n",
        "  Example:\n",
        "  \n",
        "  2000 students → 1000 boys & 1000 girls."
      ],
      "metadata": {
        "id": "YXIZcKkqLNUm"
      }
    },
    {
      "cell_type": "markdown",
      "source": [
        "**Question 3: Define mean, median, and mode. Explain why these measures of central tendency are important.**\n",
        "\n",
        "  **--> ANSWER**\n",
        "\n",
        "  These are statistical tools that indicate the center or average of a dataset.\n",
        "\n",
        "  **1. Mean (Arithmetic Average):**\n",
        "  * Sum of all observations divided by the number\n",
        "  of observations.\n",
        "  * Formula: Mean=Sum of observations/Number of observations\n",
        "  \n",
        "  Example: Marks = 10, 20, 30 → Mean = (10+20+30)/3 = 20\n",
        "\n",
        "  **2. Median:**\n",
        "  * Middle value of data when arranged in ascending or descending order\n",
        "  * Example: 10, 20, 30 → Median = 20\n",
        "  \n",
        "  If data is even: 10, 20, 30, 40 → Median = (20+30)/2 = 25\n",
        "\n",
        "  **3. Mode :**\n",
        "  * Most frequently occurring value in the dataset.\n",
        "  * Example: 2, 4, 4, 6, 7 → Mode = 4\n",
        "\n",
        "\n",
        "  **Importance:**\n",
        "  * Summarizes data by representing it with a single value.\n",
        "  * Shows the central point of the data distribution.\n",
        "  * Helps in comparison between different datasets (e.g., average marks of\n",
        "  classes).\n",
        "  * Each measure has specific uses:\n",
        "    * Mean: Useful for overall average (salary, marks).\n",
        "    * Median: Useful when there are extreme values (income distribution).\n",
        "    * Mode: Useful to find the most common value (fashion size, exam scores)."
      ],
      "metadata": {
        "id": "SZgKiaQYcdqo"
      }
    },
    {
      "cell_type": "markdown",
      "source": [
        "**Question 4: Explain skewness and kurtosis. What does a positive skew imply about the data?**\n",
        "\n",
        "  **--> ANSWER**\n",
        "\n",
        "  **1. Skewness:** Skewness measures the asymmetry of a data distribution around its mean.\n",
        "  \n",
        "  **Types:**\n",
        "  * Positive skew (right skew): Tail stretches to the right. Most data values\n",
        "  are clustered on the left, with few high values on the right.\n",
        "  * Negative skew (left skew): Tail stretches to the left. Most data values are clustered on the right, with few low values on the left.\n",
        "  \n",
        "  `Example:`\n",
        "  * Positive skew: Income of people in a city → most earn low/average, few earn very high.\n",
        "  * Negative skew: Age at retirement → most retire around 60, few retire early.\n",
        "\n",
        "  **Implication of Positive Skew:**\n",
        "  * Mean > Median > Mode\n",
        "  * Data is concentrated at lower values with some extremely high values pulling the tail to the right.\n",
        "\n",
        "  **2. Kurtosis:**\n",
        "   Kurtosis measures the peakedness or flatness of a distribution compared to a normal distribution.\n",
        "\n",
        "   **TYPES**\n",
        "   * Leptokurtic: High peak, heavy tails (more extreme values).\n",
        "   * Platykurtic: Flat distribution, light tails (less extreme values).\n",
        "   * Mesokurtic: Normal peak (similar to normal distribution).\n",
        "\n",
        "   **Example:**\n",
        "   * Leptokurtic: Test scores where most students score around average but some\n",
        "   score extremely high/low.\n",
        "   * Platykurtic: Uniform distribution like rolling a fair die.\n",
        "   "
      ],
      "metadata": {
        "id": "qUJthPdHeoPA"
      }
    },
    {
      "cell_type": "markdown",
      "source": [
        "**Question 5: Implement a Python program to compute the mean, median, and mode of a given list of numbers.**\n",
        "\n",
        "**numbers = [12, 15, 12, 18, 19, 12, 20, 22, 19, 19, 24, 24, 24, 26, 28]**\n",
        "\n",
        "**(Include your Python code and output in the code box below.)**\n",
        "\n",
        "   **--> ANSWER**"
      ],
      "metadata": {
        "id": "1mNUYpWZhGve"
      }
    },
    {
      "cell_type": "code",
      "source": [
        "# code:-\n",
        "# Import required modules\n",
        "from statistics import mean, median, mode\n",
        "# Given list of numbers\n",
        "numbers = [12, 15, 12, 18, 19, 12, 20, 22, 19, 19, 24, 24, 24, 26, 28]\n",
        "# Compute mean, median, and mode\n",
        "mean_value = mean(numbers)\n",
        "median_value = median(numbers)\n",
        "mode_value = mode(numbers)\n",
        "# Print results\n",
        "print(\"Numbers:\", numbers)\n",
        "print(\"Mean:\", mean_value)\n",
        "print(\"Median:\", median_value)\n",
        "print(\"Mode:\", mode_value)"
      ],
      "metadata": {
        "colab": {
          "base_uri": "https://localhost:8080/"
        },
        "id": "D6jkySQmhpyN",
        "outputId": "ebaa51b0-b1ef-461a-b2d0-e41509a9d977"
      },
      "execution_count": 2,
      "outputs": [
        {
          "output_type": "stream",
          "name": "stdout",
          "text": [
            "Numbers: [12, 15, 12, 18, 19, 12, 20, 22, 19, 19, 24, 24, 24, 26, 28]\n",
            "Mean: 19.6\n",
            "Median: 19\n",
            "Mode: 12\n"
          ]
        }
      ]
    },
    {
      "cell_type": "markdown",
      "source": [
        "**Question 6: Compute the covariance and correlation coefficient between the following two datasets provided as lists in Python:**\n",
        "\n",
        "**list_x = [10, 20, 30, 40, 50]**\n",
        "\n",
        "**list_y = [15, 25, 35, 45, 60]**\n",
        "\n",
        "\n",
        "  **--> ANSWER**"
      ],
      "metadata": {
        "id": "S2fuIvE0jz3c"
      }
    },
    {
      "cell_type": "code",
      "source": [
        "# Import required modules\n",
        "import numpy as np\n",
        "\n",
        "# Given datasets\n",
        "list_x = [10, 20, 30, 40, 50]\n",
        "list_y = [15, 25, 35, 45, 60]\n",
        "\n",
        "# Convert lists to numpy arrays\n",
        "x = np.array(list_x)\n",
        "y = np.array(list_y)\n",
        "\n",
        "# Compute covariance\n",
        "cov_matrix = np.cov(x, y)  # covariance matrix\n",
        "cov_xy = cov_matrix[0, 1]  # covariance between x and y\n",
        "\n",
        "# Compute correlation coefficient\n",
        "corr_matrix = np.corrcoef(x, y)\n",
        "corr_xy = corr_matrix[0, 1]  # correlation coefficient\n",
        "\n",
        "# Print results\n",
        "print(\"List X:\", list_x)\n",
        "print(\"List Y:\", list_y)\n",
        "print(\"Covariance:\", cov_xy)\n",
        "print(\"Correlation Coefficient:\", corr_xy)"
      ],
      "metadata": {
        "colab": {
          "base_uri": "https://localhost:8080/"
        },
        "id": "14tH4vKxspcA",
        "outputId": "5435b39b-1153-417f-932c-1d31d42e145c"
      },
      "execution_count": 3,
      "outputs": [
        {
          "output_type": "stream",
          "name": "stdout",
          "text": [
            "List X: [10, 20, 30, 40, 50]\n",
            "List Y: [15, 25, 35, 45, 60]\n",
            "Covariance: 275.0\n",
            "Correlation Coefficient: 0.995893206467704\n"
          ]
        }
      ]
    },
    {
      "cell_type": "markdown",
      "source": [
        "**Question 7: Write a Python script to draw a boxplot for the following numeric list and identify its outliers. Explain the result:**\n",
        "\n",
        "**data = [12, 14, 14, 15, 18, 19, 19, 21, 22, 22, 23, 23, 24, 26, 29, 35]**\n",
        "\n",
        "  **--> ANSWER**"
      ],
      "metadata": {
        "id": "wC8IHFkwtIfH"
      }
    },
    {
      "cell_type": "code",
      "source": [
        "# Import required libraries\n",
        "import matplotlib.pyplot as plt\n",
        "\n",
        "# Given dataset\n",
        "data = [12, 14, 14, 15, 18, 19, 19, 21, 22, 22, 23, 23, 24, 26, 29, 35]\n",
        "\n",
        "# Draw boxplot\n",
        "plt.boxplot(data, vert=True, patch_artist=True)\n",
        "plt.title(\"Boxplot of the Data\")\n",
        "plt.ylabel(\"Values\")\n",
        "plt.show()\n",
        "\n",
        "# Identify outliers using IQR method\n",
        "Q1 = np.percentile(data, 25)  # 1st quartile\n",
        "Q3 = np.percentile(data, 75)  # 3rd quartile\n",
        "IQR = Q3 - Q1                  # Interquartile range\n",
        "\n",
        "lower_bound = Q1 - 1.5 * IQR\n",
        "upper_bound = Q3 + 1.5 * IQR\n",
        "\n",
        "# Find outliers\n",
        "outliers = [x for x in data if x < lower_bound or x > upper_bound]\n",
        "\n",
        "print(\"Data:\", data)\n",
        "print(\"Q1:\", Q1, \"Q3:\", Q3, \"IQR:\", IQR)\n",
        "print(\"Lower Bound:\", lower_bound, \"Upper Bound:\", upper_bound)\n",
        "print(\"Outliers:\", outliers)"
      ],
      "metadata": {
        "colab": {
          "base_uri": "https://localhost:8080/",
          "height": 525
        },
        "id": "A7mmcXZltm93",
        "outputId": "cdee678f-3e3c-47c1-a1c9-1a9b7f973542"
      },
      "execution_count": 4,
      "outputs": [
        {
          "output_type": "display_data",
          "data": {
            "text/plain": [
              "<Figure size 640x480 with 1 Axes>"
            ],
            "image/png": "[encoded data removed]"
          },
          "metadata": {}
        },
        {
          "output_type": "stream",
          "name": "stdout",
          "text": [
            "Data: [12, 14, 14, 15, 18, 19, 19, 21, 22, 22, 23, 23, 24, 26, 29, 35]\n",
            "Q1: 17.25 Q3: 23.25 IQR: 6.0\n",
            "Lower Bound: 8.25 Upper Bound: 32.25\n",
            "Outliers: [35]\n"
          ]
        }
      ]
    },
    {
      "cell_type": "markdown",
      "source": [
        "**Question 8: You are working as a data analyst in an e-commerce company. The marketing team wants to know if there is a relationship between advertising spend and daily sales.**\n",
        " * Explain how you would use covariance and correlation to explore this relationship.\n",
        " * Write Python code to compute the correlation between the two lists:\n",
        "\n",
        " **advertising_spend = [200, 250, 300, 400, 500]**\n",
        "\n",
        " **daily_sales = [2200, 2450, 2750, 3200, 4000]**\n",
        "\n",
        "   **--> ANSWER:**\n",
        "\n",
        "   **Covariance:**\n",
        "   * Measures how two variables vary together.\n",
        "   * Positive covariance → when advertising spend increases, sales tend to increase.\n",
        "   * Negative covariance → when advertising spend increases, sales tend to decrease.\n",
        "   * Limitation: Not standardized; hard to compare magnitude.\n",
        "\n",
        "   **Correlation Coefficient (r):**\n",
        "   * Standardized version of covariance.\n",
        "   * Ranges from -1 to 1.\n",
        "     * r ≈ 1 → strong positive relationship\n",
        "     * r ≈ -1 → strong negative relationship\n",
        "     * r ≈ 0 → no linear relationship\n",
        "  * Helps marketing team understand strength and direction of the relationship between ad spend and sales."
      ],
      "metadata": {
        "id": "ckiJ6pv8t3vQ"
      }
    },
    {
      "cell_type": "code",
      "source": [
        "# Import required library\n",
        "import numpy as np\n",
        "\n",
        "# Given data\n",
        "advertising_spend = [200, 250, 300, 400, 500]\n",
        "daily_sales = [2200, 2450, 2750, 3200, 4000]\n",
        "\n",
        "# Convert to numpy arrays\n",
        "x = np.array(advertising_spend)\n",
        "y = np.array(daily_sales)\n",
        "\n",
        "# Compute covariance\n",
        "cov_matrix = np.cov(x, y)\n",
        "cov_xy = cov_matrix[0, 1]\n",
        "\n",
        "# Compute correlation coefficient\n",
        "corr_matrix = np.corrcoef(x, y)\n",
        "corr_xy = corr_matrix[0, 1]\n",
        "\n",
        "# Print results\n",
        "print(\"Covariance:\", cov_xy)\n",
        "print(\"Correlation Coefficient:\", corr_xy)"
      ],
      "metadata": {
        "colab": {
          "base_uri": "https://localhost:8080/"
        },
        "id": "R3fcpuPuvf9_",
        "outputId": "b967af47-2ca6-47ff-ddce-374e90a19c37"
      },
      "execution_count": 5,
      "outputs": [
        {
          "output_type": "stream",
          "name": "stdout",
          "text": [
            "Covariance: 84875.0\n",
            "Correlation Coefficient: 0.9935824101653329\n"
          ]
        }
      ]
    },
    {
      "cell_type": "markdown",
      "source": [
        "**Question 9: Your team has collected customer satisfaction survey data on a scale of 1-10 and wants to understand its distribution before launching a new product.**\n",
        "\n",
        "* Explain which summary statistics and visualizations (e.g. mean, standard deviation, histogram) you’d use.\n",
        "* Write Python code to create a histogram using Matplotlib for the survey data:\n",
        "\n",
        "**survey_scores = [7, 8, 5, 9, 6, 7, 8, 9, 10, 4, 7, 6, 9, 8, 7]**\n",
        "\n",
        "  **--ANSWER**\n",
        "  \n",
        "  **Summary Statistics**\n",
        "  1. Mean → Average satisfaction score.\n",
        "  2. Median → Middle value; useful if there are extreme scores.\n",
        "  3. Mode → Most common satisfaction score.\n",
        "  4. Standard Deviation (SD) → Measures how spread out the scores are.\n",
        "  5. Range / Min / Max → Gives the overall spread of scores.\n",
        "  \n",
        "  **Visualizations:**\n",
        "  1. Histogram → Shows how frequently each score occurs; visualizes distribution.\n",
        "  2. Boxplot → Helps identify median, quartiles, and any outliers.\n",
        "  \n",
        "  **Why?**\n",
        "  * Helps marketing team see the overall trend of customer satisfaction befor\n",
        "  product launch.\n",
        "  * Can identify if most customers are satisfied (high scores) or if there are concerns (low scores)."
      ],
      "metadata": {
        "id": "tJTOH3pFvkM2"
      }
    },
    {
      "cell_type": "code",
      "source": [
        "# Import required library\n",
        "import matplotlib.pyplot as plt\n",
        "\n",
        "# Survey data\n",
        "survey_scores = [7, 8, 5, 9, 6, 7, 8, 9, 10, 4, 7, 6, 9, 8, 7]\n",
        "\n",
        "# Create histogram\n",
        "plt.hist(survey_scores, bins=7, edgecolor='black', color='skyblue')\n",
        "plt.title(\"Histogram of Customer Satisfaction Scores\")\n",
        "plt.xlabel(\"Survey Score\")\n",
        "plt.ylabel(\"Frequency\")\n",
        "plt.xticks(range(4, 11))  # Set x-axis labels from 4 to 10\n",
        "plt.show()\n"
      ],
      "metadata": {
        "colab": {
          "base_uri": "https://localhost:8080/",
          "height": 472
        },
        "id": "MCr1CHHnw9pe",
        "outputId": "89cd215c-039e-4eaf-e3aa-1e260d1deaa7"
      },
      "execution_count": 6,
      "outputs": [
        {
          "output_type": "display_data",
          "data": {
            "text/plain": [
              "<Figure size 640x480 with 1 Axes>"
            ],
            "image/png": "[encoded data removed]"
          },
          "metadata": {}
        }
      ]
    }
  ]
}